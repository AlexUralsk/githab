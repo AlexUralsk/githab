{
 "cells": [
  {
   "cell_type": "markdown",
   "metadata": {},
   "source": [
    "Заполнение 2\n",
    "На вход программе подаются два натуральных числа n и m. Напишите программу, которая создает матрицу размером \n",
    "n×m, заполнив её в соответствии с образцом.\n",
    "\n",
    "Формат входных данных\n",
    "На вход программе на одной строке подаются два натуральных числа \n",
    "n и m — количество строк и столбцов в матрице.\n",
    "Формат выходных данных\n",
    "Программа должна вывести указанную матрицу в соответствии с образцом.\n",
    "Sample Input 1:\n",
    "\n",
    "3 7\n",
    "Sample Output 1:\n",
    "\n",
    "1  4  7  10 13 16 19\n",
    "2  5  8  11 14 17 20\n",
    "3  6  9  12 15 18 21\n",
    "Sample Input 2:\n",
    "\n",
    "6 6\n",
    "Sample Output 2:\n",
    "\n",
    "1  7  13 19 25 31\n",
    "2  8  14 20 26 32\n",
    "3  9  15 21 27 33\n",
    "4  10 16 22 28 34\n",
    "5  11 17 23 29 35\n",
    "6  12 18 24 30 36"
   ]
  },
  {
   "cell_type": "code",
   "execution_count": null,
   "metadata": {},
   "outputs": [],
   "source": [
    "n, m = input().split(' ')\n",
    "matrix = [[i for i in range(i, int(n)*int(m)+1, int(n))] for i in range(1, int(n)+1)]\n",
    "for i in matrix:\n",
    "    print(*i)"
   ]
  }
 ],
 "metadata": {
  "kernelspec": {
   "display_name": "Python 3",
   "language": "python",
   "name": "python3"
  },
  "language_info": {
   "name": "python",
   "version": "3.12.2"
  }
 },
 "nbformat": 4,
 "nbformat_minor": 2
}
