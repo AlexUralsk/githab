{
 "cells": [
  {
   "cell_type": "markdown",
   "metadata": {},
   "source": [
    "Возведение матрицы в степень 🌶️\n",
    "Напишите программу, которая возводит квадратную матрицу в \n",
    "m-ую степень.\n",
    "\n",
    "Формат входных данных\n",
    "На вход программе подаётся натуральное число \n",
    "n — количество строк и столбцов в матрице, затем элементы матрицы, затем натуральное число m.\n",
    "\n",
    "Формат выходных данных\n",
    "Программа должна вывести результирующую матрицу, разделяя элементы символом пробела."
   ]
  },
  {
   "cell_type": "code",
   "execution_count": null,
   "metadata": {},
   "outputs": [],
   "source": [
    "n = int(input())\n",
    "matrix = [[int(x) for x in input().split()] for _ in range(n)]\n",
    "m = int(input())\n",
    "matrix1 = matrix\n",
    "matrix2 = [[0] * n for _ in range(n)]\n",
    "for x in range(m - 1):\n",
    "    for i in range(n):\n",
    "        for j in range(n):\n",
    "            for q in range(n):\n",
    "                matrix2[i][j] += matrix[i][q] * matrix1[q][j]\n",
    "    matrix = matrix2\n",
    "for i in matrix2:\n",
    "    print(*i)"
   ]
  },
  {
   "cell_type": "code",
   "execution_count": null,
   "metadata": {},
   "outputs": [],
   "source": [
    "def matrixs(n):\n",
    "    if n % 2 != 0:\n",
    "        matrix = "
   ]
  },
  {
   "cell_type": "code",
   "execution_count": null,
   "metadata": {},
   "outputs": [
    {
     "ename": "",
     "evalue": "",
     "output_type": "error",
     "traceback": [
      "\u001b[1;31mДля выполнения ячеек с \"Python 3.12.7\" требуется пакет ipykernel.\n",
      "\u001b[1;31mВыполните следующую команду, чтобы установить \"ipykernel\" в среде Python. \n",
      "\u001b[1;31mКоманда: \"c:/Users/Alex_Uralsk/AppData/Local/Microsoft/WindowsApps/python3.12.exe -m pip install ipykernel -U --user --force-reinstall\""
     ]
    }
   ],
   "source": [
    "n = int(input())\n",
    "if n % 2 != 0:\n",
    "    matrix = [[0] * n for _ in range(n)]\n",
    "for i in matrix2:\n",
    "    print(*i)\n",
    "\n",
    "\n",
    "\n",
    "\n"
   ]
  }
 ],
 "metadata": {
  "kernelspec": {
   "display_name": "Python 3",
   "language": "python",
   "name": "python3"
  },
  "language_info": {
   "name": "python",
   "version": "3.12.7"
  }
 },
 "nbformat": 4,
 "nbformat_minor": 2
}
