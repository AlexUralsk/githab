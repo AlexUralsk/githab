{
 "cells": [
  {
   "cell_type": "markdown",
   "metadata": {},
   "source": [
    "Словарь синонимов\n",
    "Вам дан словарь, состоящий из пар слов-синонимов. Повторяющихся слов в словаре нет. Напишите программу, которая для одного данного слова определяет его синоним.\n",
    "\n",
    "Формат входных данных\n",
    "На вход программе подается количество пар синонимов n. Далее следует n строк, каждая строка содержит два слова-синонима. После этого следует одно слово, синоним которого надо найти.\n",
    "\n",
    "Формат выходных данных\n",
    "Программа должна вывести одно слово, синоним введенного.\n",
    "\n",
    "Примечание 1. Гарантируется, что синоним введенного слова существует в словаре.\n",
    "\n",
    "Примечание 2. Все слова в словаре начинаются с заглавной буквы.\n",
    "Sample Input 1:\n",
    "\n",
    "4\n",
    "Awful Terrible\n",
    "Beautiful Pretty\n",
    "Great Excellent\n",
    "Generous Bountiful\n",
    "Pretty\n",
    "Sample Output 1:\n",
    "\n",
    "Beautiful\n",
    "Sample Input 2:\n",
    "\n",
    "3\n",
    "Kind Affable\n",
    "Intellect Mind\n",
    "Popular Celebrated\n",
    "Popular\n",
    "Sample Output 2:\n",
    "\n",
    "Celebrated"
   ]
  },
  {
   "cell_type": "code",
   "execution_count": 9,
   "metadata": {},
   "outputs": [
    {
     "name": "stdout",
     "output_type": "stream",
     "text": [
      "[['Kind', 'Affable'], ['Intellect', 'Mind'], ['Popular', 'Celebrated']]\n",
      "Celebrated\n"
     ]
    }
   ],
   "source": [
    "n = int(input())\n",
    "sinon = []\n",
    "sinon1 = {}\n",
    "for i in range(n):\n",
    "    slovo = input().split(' ')\n",
    "    sinon.append(slovo)    \n",
    "print(sinon)\n",
    "sinon2 = input()\n",
    "for i in range(len(sinon)):    \n",
    "    if sinon[i][0] == sinon2:\n",
    "        print(sinon[i][1])\n",
    "    if sinon[i][1] == sinon2:\n",
    "        print(sinon[i][0])\n",
    "        "
   ]
  }
 ],
 "metadata": {
  "kernelspec": {
   "display_name": "Python 3",
   "language": "python",
   "name": "python3"
  },
  "language_info": {
   "codemirror_mode": {
    "name": "ipython",
    "version": 3
   },
   "file_extension": ".py",
   "mimetype": "text/x-python",
   "name": "python",
   "nbconvert_exporter": "python",
   "pygments_lexer": "ipython3",
   "version": "3.12.2"
  }
 },
 "nbformat": 4,
 "nbformat_minor": 2
}
