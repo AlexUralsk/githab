{
 "cells": [
  {
   "cell_type": "markdown",
   "metadata": {},
   "source": [
    "15. Самое редкое слово 🌶️\n",
    "На вход программе подается строка текста. Напишите программу, которая выводит слово, которое встречается реже всего, без учета регистра. Если таких слов несколько, выведите то, которое меньше в лексикографическом порядке.\n",
    "\n",
    "Формат входных данных\n",
    "На вход программе подается строка текста.\n",
    "\n",
    "Формат выходных данных\n",
    "Программа должна вывести слово (в нижнем регистре), встречаемое реже всего.\n",
    "\n",
    "Примечание 1. Программа не должна быть чувствительной к регистру, слова apple и Apple должна воспринимать как одинаковые.\n",
    "\n",
    "Примечание 2. Слово — последовательность букв. Кроме слов в тексте могут присутствовать пробелы и знаки препинания .,!?:;-, которые нужно игнорировать. Других символов в тексте нет.\n",
    "Номер теста\tВходные данные\tВыходные данные\n",
    "1\thome sweet home\tsweet\n",
    "2\thome sweet home sweet.\thome\n",
    "3\tHow are you? how Are?\tyou\n",
    "4\tLondon is the capital of Great Britain. More than six million people live in London. London lies on both banks of the river Thames. It is the largest city in Europe and one of the largest cities in the world. London is not only the capital of the country, it is also a very big port, one of the greatest commercial centres in the world, a university city, and the seat of the government of Great Britain!\talso\n",
    "5\tMy dear, here we must run as fast as we can, just to stay in place. And if you wish to go anywhere you must run twice as fast as that.\tand\n",
    "6\tI bought two books: a new book and an old book. The new book was more expensive than the old book.\ta\n",
    "7\tнаш курс курс самый самый лучший"
   ]
  },
  {
   "cell_type": "code",
   "execution_count": 16,
   "metadata": {},
   "outputs": [
    {
     "name": "stdout",
     "output_type": "stream",
     "text": [
      "[('наш', 1), ('лучший', 1), ('курс', 2), ('самый', 2)]\n",
      "dicts[i + 1][1]= 2\n",
      "dicts[i + 1][1]= 2\n",
      "slovo= [('наш', 1), ('лучший', 1)]\n",
      "лучший\n"
     ]
    }
   ],
   "source": [
    "from string import punctuation\n",
    "data = input()\n",
    "data = data.lower()\n",
    "for i in punctuation:\n",
    "        if i in data:\n",
    "            data = data.replace(i, '') \n",
    "#data = data.lower\n",
    "data = data.split(' ')\n",
    "\n",
    "dicts = {}\n",
    "for i in data:\n",
    "    dicts[i] = dicts.get(i, 0) + 1\n",
    "dicts = sorted(dicts.items(), key = lambda x: x[1])\n",
    "print(dicts)\n",
    "slovo = []\n",
    "slovo.append(dicts[0])\n",
    "#print('dicts[0]=', slovo[0][1])\n",
    "for i in range(1,len(dicts) - 1):\n",
    "    print('dicts[i + 1][1]=', dicts[i + 1][1])\n",
    "    if slovo[0][1] == dicts[i][1]:\n",
    "        slovo.append(dicts[i])\n",
    "    else:\n",
    "        break\n",
    "print('slovo=', slovo)\n",
    "slovo = sorted(dict(slovo).keys())   \n",
    "        \n",
    "print(slovo[0]) "
   ]
  }
 ],
 "metadata": {
  "kernelspec": {
   "display_name": "Python 3",
   "language": "python",
   "name": "python3"
  },
  "language_info": {
   "codemirror_mode": {
    "name": "ipython",
    "version": 3
   },
   "file_extension": ".py",
   "mimetype": "text/x-python",
   "name": "python",
   "nbconvert_exporter": "python",
   "pygments_lexer": "ipython3",
   "version": "3.12.2"
  }
 },
 "nbformat": 4,
 "nbformat_minor": 2
}
