{
 "cells": [
  {
   "cell_type": "code",
   "execution_count": 2,
   "metadata": {},
   "outputs": [
    {
     "name": "stdout",
     "output_type": "stream",
     "text": [
      "x1 = 0.6180339887498949\n",
      "x2 = -1.618033988749895\n"
     ]
    }
   ],
   "source": [
    "from math import sqrt\n",
    "a = input()\n",
    "b = input()\n",
    "c = input()\n",
    "a = int(a)\n",
    "b = int(b)\n",
    "c = int(c)\n",
    "d = b** 2 + (4 * a) * c\n",
    "\n",
    "if d < 0:\n",
    "    print('Уравнение не имеет  решения')\n",
    "if d > 0:\n",
    "    x = (-b + sqrt(d))/(2 * a)\n",
    "    y = (-b - sqrt(d))/(2 * a)\n",
    "    print('x1 =',((-b) + sqrt(d))/(2 * a))\n",
    "    print('x2 =', ((-b) - sqrt(d))/(2 * a))\n",
    "if d == 0:\n",
    "    x = (-b )/(2 * a)\n",
    "    print('x1 =', x)"
   ]
  }
 ],
 "metadata": {
  "kernelspec": {
   "display_name": "Python 3",
   "language": "python",
   "name": "python3"
  },
  "language_info": {
   "codemirror_mode": {
    "name": "ipython",
    "version": 3
   },
   "file_extension": ".py",
   "mimetype": "text/x-python",
   "name": "python",
   "nbconvert_exporter": "python",
   "pygments_lexer": "ipython3",
   "version": "3.13.0"
  }
 },
 "nbformat": 4,
 "nbformat_minor": 2
}
