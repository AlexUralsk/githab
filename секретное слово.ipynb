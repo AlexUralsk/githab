{
 "cells": [
  {
   "cell_type": "markdown",
   "metadata": {},
   "source": [
    "10.7 Секретное слово\n",
    "Напишите программу для расшифровки секретного слова методом частотного анализа.\n",
    "\n",
    "Формат входных данных\n",
    "В первой строке задано зашифрованное слово. Во второй строке задано одно целое число \n",
    "n – количество букв в словаре. В следующих \n",
    "n строках записано, сколько раз конкретная буква алфавита встречается в этом слове – <буква>: <частота>.\n",
    "\n",
    "Формат выходных данных\n",
    "Программа должна вывести дешифрованное слово.\n",
    "\n",
    "Примечание. Гарантируется, что частоты букв не повторяются.\n",
    "Номер теста\tВходные данные\tВыходные данные\n",
    "1\t*!*!*?\n",
    "3\n",
    "а: 3\n",
    "н: 2\n",
    "с: 1\tананас\n",
    "2\tpop\n",
    "2\n",
    "д: 2\n",
    "е: 1\tдед\n",
    "3\tzpwzpz\n",
    "3\n",
    "б: 3\n",
    "а: 2\n",
    "о: 1\tбаобаб\n",
    "4\t121292\n",
    "3\n",
    "п: 2\n",
    "а: 3\n",
    "х: 1\tпапаха\n",
    "5\tpoioio\n",
    "3\n",
    "м: 1\n",
    "а: 3\n",
    "к: 2\tмакака"
   ]
  },
  {
   "cell_type": "code",
   "execution_count": null,
   "metadata": {},
   "outputs": [],
   "source": [
    "slovo = input()\n",
    "slovo1 = {}\n",
    "n = int(input())\n",
    "m = {}\n",
    "l = []\n",
    "for i in range(n):\n",
    "    l = input().split(':')\n",
    "    m.setdefault(l[0], int(l[1]))\n",
    "#print(m)\n",
    "for i in slovo:\n",
    "    slovo1[i] = slovo1.get(i, 0) + 1\n",
    "#print(slovo1)\n",
    "m = [list(i) for i in m.items()]\n",
    "slovo1 = [list(i) for i in slovo1.items()]\n",
    "slovo3 = []\n",
    "print('slovo1=', slovo1)\n",
    "for i in slovo1:\n",
    "    #print('i[1]=', i[1])\n",
    "    for j in m:\n",
    "        if i[1] == j[1]:\n",
    "            i[1] = j[0]  \n",
    "print(slovo1)\n",
    "#slovo1 = dict(slovo1)\n",
    "for i in slovo1:\n",
    "    slovo = slovo.replace(i[0], i[1] ) \n",
    "print(slovo)"
   ]
  }
 ],
 "metadata": {
  "kernelspec": {
   "display_name": "Python 3",
   "language": "python",
   "name": "python3"
  },
  "language_info": {
   "name": "python",
   "version": "3.12.2"
  }
 },
 "nbformat": 4,
 "nbformat_minor": 2
}
