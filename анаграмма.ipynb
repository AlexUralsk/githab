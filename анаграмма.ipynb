{
 "cells": [
  {
   "cell_type": "markdown",
   "metadata": {},
   "source": [
    "10.2 Анаграммы 1\n",
    "Анаграмма – слово (словосочетание), образованное путём перестановки букв, составляющих другое слово (или словосочетание). Например, английские слова evil и live – это анаграммы.\n",
    "\n",
    "На вход программе подаются два слова. Напишите программу, которая определяет, являются ли они анаграммами.\n",
    "\n",
    "Формат входных данных\n",
    "На вход программе подаются два слова, каждое на отдельной строке.\n",
    "\n",
    "Формат выходных данных\n",
    "Программа должна вывести YES если слова являются анаграммами и NO в противном случае.\n",
    "Номер теста\tВходные данные\tВыходные данные\n",
    "1\tthing\n",
    "night\tYES\n",
    "2\tcat\n",
    "rat\tNO\n",
    "3\ttea\n",
    "eat\tYES\n",
    "4\tlate\n",
    "tale\tYES\n",
    "5\ttime\n",
    "lime\tNO\n",
    "6\treward\n",
    "drawer\tYES\n",
    "7\tfail\n",
    "mail\tNO\n",
    "8\tstep\n",
    "pest\tYES\n",
    "9\taaab\n",
    "baab\tNO\n",
    "10\taaa\n",
    "aa\tNO\n",
    "11\taaab\n",
    "baaa\tYES\n",
    "12\tabababab\n",
    "babababa\tYES"
   ]
  },
  {
   "cell_type": "code",
   "execution_count": 34,
   "metadata": {},
   "outputs": [
    {
     "name": "stdout",
     "output_type": "stream",
     "text": [
      "aaab\n",
      "baaa\n",
      "False\n",
      "NO\n"
     ]
    }
   ],
   "source": [
    "s1 = input()\n",
    "s2 = input()\n",
    "print(s1)\n",
    "print(s2)\n",
    "flag = True\n",
    "#def sorts(s1 , s2):  \n",
    "if len(s1) == len(s2):\n",
    "    for i in range(len(s1)):\n",
    "        if s1[i] not in s2:\n",
    "                    flag = False\n",
    "        if s1[i] in s2:           \n",
    "           s2.replace(s1[i],'')   \n",
    "    else:\n",
    "         flag = False  \n",
    "    print(flag)     \n",
    "else:\n",
    "     flag = False\n",
    "    \n",
    "if flag:\n",
    "    print('YES')\n",
    "else:\n",
    "    print('NO')"
   ]
  }
 ],
 "metadata": {
  "kernelspec": {
   "display_name": ".venv",
   "language": "python",
   "name": "python3"
  },
  "language_info": {
   "codemirror_mode": {
    "name": "ipython",
    "version": 3
   },
   "file_extension": ".py",
   "mimetype": "text/x-python",
   "name": "python",
   "nbconvert_exporter": "python",
   "pygments_lexer": "ipython3",
   "version": "3.12.3"
  }
 },
 "nbformat": 4,
 "nbformat_minor": 2
}
