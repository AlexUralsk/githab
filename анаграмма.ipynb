{
 "cells": [
  {
   "cell_type": "markdown",
   "metadata": {},
   "source": [
    "10.2 Анаграммы 1\n",
    "Анаграмма – слово (словосочетание), образованное путём перестановки букв, составляющих другое слово (или словосочетание). Например, английские слова evil и live – это анаграммы.\n",
    "\n",
    "На вход программе подаются два слова. Напишите программу, которая определяет, являются ли они анаграммами.\n",
    "\n",
    "Формат входных данных\n",
    "На вход программе подаются два слова, каждое на отдельной строке.\n",
    "\n",
    "Формат выходных данных\n",
    "Программа должна вывести YES если слова являются анаграммами и NO в противном случае.\n",
    "Номер теста\tВходные данные\tВыходные данные\n",
    "1\tthing\n",
    "night\tYES\n",
    "2\tcat\n",
    "rat\tNO\n",
    "3\ttea\n",
    "eat\tYES\n",
    "4\tlate\n",
    "tale\tYES\n",
    "5\ttime\n",
    "lime\tNO\n",
    "6\treward\n",
    "drawer\tYES\n",
    "7\tfail\n",
    "mail\tNO\n",
    "8\tstep\n",
    "pest\tYES\n",
    "9\taaab\n",
    "baab\tNO\n",
    "10\taaa\n",
    "aa\tNO\n",
    "11\taaab\n",
    "baaa\tYES\n",
    "12\tabababab\n",
    "babababa\tYES"
   ]
  },
  {
   "cell_type": "code",
   "execution_count": null,
   "metadata": {},
   "outputs": [],
   "source": [
    "s1 = input()\n",
    "s2 = input()\n",
    "s1_1 = {}\n",
    "s2_2 = {}\n",
    "def sorts(s):\n",
    "    \n",
    "flag = True\n",
    "\n",
    "for i in s1:\n",
    "    if i not in s2:\n",
    "        flag = False\n",
    "        break\n",
    "if flag:\n",
    "    print('YES')\n",
    "else:\n",
    "    print('NO')"
   ]
  }
 ],
 "metadata": {
  "kernelspec": {
   "display_name": "Python 3",
   "language": "python",
   "name": "python3"
  },
  "language_info": {
   "name": "python",
   "version": "3.12.2"
  }
 },
 "nbformat": 4,
 "nbformat_minor": 2
}
