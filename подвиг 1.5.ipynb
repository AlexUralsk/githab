{
 "cells": [
  {
   "cell_type": "markdown",
   "metadata": {},
   "source": [
    "подвиг 1.5\n",
    "объявите класс с именем Graf и методами:\n",
    "set_data(data) - передача data для последующего отображения( data - список чисел);\n",
    "draw() - отображение данных (в том же порядке, что и в списке data)\n",
    "и атрибутом: LIMIT_Y = [0, 10]\n",
    "метод set_data должен формировать локальное свойство data объекта класса Graf. Атрибут data должен ссылаться на переданный в метод список. Метод draw() должен выводить на экран список в виде строки чисел , разделенные пробелом и принадлежащие заданному диапазону атрибута LIMIT_Y (границы включаются). \n",
    "Создайте объект graf_1. Вызовите дл него метод set_data()  и передайте список:\n",
    "[10, -5, 100, 20, 0, 80, 45, 2, 5,7]\n",
    "Затем вызовите метод draw() через метод graf_1. На экране должно отобразиться строка с соответствующим набором чисел, записанных через пробел(без ковычек) "
   ]
  },
  {
   "cell_type": "code",
   "execution_count": 9,
   "metadata": {},
   "outputs": [
    {
     "name": "stdout",
     "output_type": "stream",
     "text": [
      "10 0 2 5 7\n"
     ]
    }
   ],
   "source": [
    "class Graf:\n",
    "   LIMIT_Y = [0, 10]\n",
    "   \n",
    "   def set_data(self, data):\n",
    "       self.data = data\n",
    "       \n",
    "   def draw(self):\n",
    "       print(' '.join(map(str, filter(lambda x: self.LIMIT_Y[0] <= x <= self.LIMIT_Y[1], self.data))))\n",
    "graf_1 = Graf()\n",
    "graf_1.set_data([10, -5, 100, 20, 0, 80, 45, 2, 5, 7])\n",
    "graf_1.draw()"
   ]
  }
 ],
 "metadata": {
  "kernelspec": {
   "display_name": "sait",
   "language": "python",
   "name": "python3"
  },
  "language_info": {
   "codemirror_mode": {
    "name": "ipython",
    "version": 3
   },
   "file_extension": ".py",
   "mimetype": "text/x-python",
   "name": "python",
   "nbconvert_exporter": "python",
   "pygments_lexer": "ipython3",
   "version": "3.12.2"
  }
 },
 "nbformat": 4,
 "nbformat_minor": 2
}
