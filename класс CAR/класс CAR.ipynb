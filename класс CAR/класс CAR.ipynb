{
 "cells": [
  {
   "cell_type": "markdown",
   "metadata": {},
   "source": [
    "Создание класса \"Car\":\n",
    "\n",
    "Создайте класс \"Car\" с атрибутами (полями) как марка, модель, год выпуска и цвет.\n",
    "Реализуйте метод(setting_values) для получения и установки значений атрибутов.\n",
    "Добавьте метод(start) для запуска двигателя автомобиля.\n",
    "Пример класса:\n",
    "\n",
    "class Car():\n",
    "    def setting_values(self,marka,model,age,color):\n",
    "        pass\n",
    "    def start(self):\n",
    "        pass\n",
    "Метод start должен выводить:  [цвет][марка][модель][год выпуска] года выпуска был запущен!\n",
    "\n",
    "Sample Input:\n",
    "\n",
    "\n",
    "Sample Output:\n",
    "\n",
    "чёрный Volkswagen Polo 2010 года выпуска был запущен! "
   ]
  },
  {
   "cell_type": "code",
   "execution_count": 6,
   "metadata": {},
   "outputs": [
    {
     "name": "stdout",
     "output_type": "stream",
     "text": [
      "Анна\n",
      "25\n",
      "Привет, меня зовут Анна и мне 25 лет.\n"
     ]
    }
   ],
   "source": [
    "class Person:\n",
    "    def __init__(self, name, age):\n",
    "        self.name = name\n",
    "        self.age = age\n",
    "\n",
    "    def greet(self):\n",
    "        print(\"Привет, меня зовут\", self.name, \"и мне\", self.age, \"лет.\")\n",
    "\n",
    "# Создание объекта класса Person\n",
    "person1 = Person(\"Анна\", 25)\n",
    "\n",
    "# Доступ к атрибутам объекта\n",
    "print(person1.name)  # Вывод: Анна\n",
    "print(person1.age)   # Вывод: 25\n",
    "\n",
    "# Вызов метода объекта\n",
    "person1.greet()  # Вывод: Привет, меня зовут Анна и мне 25 лет."
   ]
  },
  {
   "cell_type": "code",
   "execution_count": 2,
   "metadata": {},
   "outputs": [
    {
     "name": "stdout",
     "output_type": "stream",
     "text": [
      "чёрный Volkswagen Polo 2010 года выпуска был запущен!\n"
     ]
    }
   ],
   "source": [
    "class Car:\n",
    "    marka = \"Volkswagen\"\n",
    "    model = \"Polo\"\n",
    "    age = 2010 \n",
    "    color = \"чёрный\"\n",
    "    \n",
    "    def setting_values(self, marka, model, age, color):\n",
    "        self.marka = marka\n",
    "        self.model = model\n",
    "        self.age = age\n",
    "        self.color = color\n",
    "        \n",
    "    def start(self):\n",
    "        print(self.color, self.marka, self.model, self.age, \"года выпуска был запущен!\")\n",
    "car1 = Car()\n",
    "car1.start()"
   ]
  }
 ],
 "metadata": {
  "kernelspec": {
   "display_name": "Python 3",
   "language": "python",
   "name": "python3"
  },
  "language_info": {
   "codemirror_mode": {
    "name": "ipython",
    "version": 3
   },
   "file_extension": ".py",
   "mimetype": "text/x-python",
   "name": "python",
   "nbconvert_exporter": "python",
   "pygments_lexer": "ipython3",
   "version": "3.12.3"
  }
 },
 "nbformat": 4,
 "nbformat_minor": 2
}
