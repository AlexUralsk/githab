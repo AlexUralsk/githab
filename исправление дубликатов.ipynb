{
 "cells": [
  {
   "cell_type": "markdown",
   "metadata": {},
   "source": [
    "16.   Исправление дубликатов 🌶️\n",
    "На вход программе подается строка, содержащая строки-идентификаторы. Напишите программу, которая исправляет их так, чтобы в результирующей строке не было дубликатов. Для этого необходимо прибавлять к повторяющимся идентификаторам постфикс _n, где n – количество раз, сколько такой идентификатор уже встречался.\n",
    "\n",
    "Формат входных данных\n",
    "На вход программе подается строка текста, содержащая строки-идентификаторы, разделенные символом пробела.\n",
    "\n",
    "Формат выходных данных\n",
    "Программа должна вывести исправленную строку, не содержащую дубликатов сохранив при этом исходный порядок.\n",
    "Sample Input 1:\n",
    "\n",
    "a b c a a d c\n",
    "Sample Output 1:\n",
    "\n",
    "a b c a_1 a_2 d c_1\n",
    "\n",
    "\n",
    "Sample Input 2:\n",
    "\n",
    "a b c\n",
    "Sample Output 2:\n",
    "\n",
    "a b c\n",
    "Sample Input 3:\n",
    "\n",
    "i am i r o n m a n\n",
    "Sample Output 3:\n",
    "\n",
    "i am i_1 r o n m a n_1\n",
    "Sample Input 4:\n",
    "\n",
    "a a a a a\n",
    "Sample Output 4:\n",
    "\n",
    "a a_1 a_2 a_3 a_4"
   ]
  },
  {
   "cell_type": "code",
   "execution_count": 1,
   "metadata": {},
   "outputs": [
    {
     "name": "stdout",
     "output_type": "stream",
     "text": [
      "a b c a_1 a_2 d c_1\n"
     ]
    }
   ],
   "source": [
    "str0 = input().split(' ')\n",
    "#print(str0)\n",
    "str1 = {}\n",
    "str2 = []\n",
    "for i in str0:\n",
    "  str1[i] = str1.get(i,0) + 1\n",
    "  if i not in str2:\n",
    "    str2.append(i)\n",
    "  else:\n",
    "    n = str1[i]\n",
    "    str2.append(i + '_' + str(n - 1))\n",
    "print(*str2)\n"
   ]
  }
 ],
 "metadata": {
  "kernelspec": {
   "display_name": "Python 3",
   "language": "python",
   "name": "python3"
  },
  "language_info": {
   "codemirror_mode": {
    "name": "ipython",
    "version": 3
   },
   "file_extension": ".py",
   "mimetype": "text/x-python",
   "name": "python",
   "nbconvert_exporter": "python",
   "pygments_lexer": "ipython3",
   "version": "3.12.2"
  }
 },
 "nbformat": 4,
 "nbformat_minor": 2
}
