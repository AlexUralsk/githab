{
 "cells": [
  {
   "cell_type": "markdown",
   "metadata": {},
   "source": [
    "Создание класса \"Book\":\n",
    "\n",
    "Создайте класс \"Book\" с атрибутами (полями) как название, автор и количество страниц.\n",
    "Реализуйте метод(attributes) для получения и установки значений атрибутов.\n",
    "Добавьте метод(info) для вывода информации о книге.\n",
    "Пример класса:\n",
    "\n",
    "class Book():\n",
    "    def attributes(self,name,aftor,pages):\n",
    "        pass\n",
    "    def info(self):\n",
    "        pass\n",
    "Sample Input:\n",
    "\n",
    "\n",
    "Sample Output:\n",
    "\n",
    "Название: Гарри Поттер и узник Азкабана\n",
    "Автор: Дж.К. Роулинг\n",
    "Страницы: 484"
   ]
  },
  {
   "cell_type": "code",
   "execution_count": 7,
   "metadata": {},
   "outputs": [
    {
     "name": "stdout",
     "output_type": "stream",
     "text": [
      "Название: Гарри Поттер и узник Азкабана\n",
      "Автор: Дж.К. Роулинг\n",
      "Страницы: 484\n"
     ]
    }
   ],
   "source": [
    "class Book():\n",
    "    name = 'Гарри Поттер и узник Азкабана'\n",
    "    aftor = 'Дж.К. Роулинг'\n",
    "    pages = 484\n",
    "    def attributes(self,name,aftor,pages):\n",
    "        self.name = name\n",
    "        self.aftor = aftor\n",
    "        self.pages = pages\n",
    "    def info(self):\n",
    "        print(f\"Название: {self.name}\", f\"Автор: {self.aftor}\", f\"Страницы: {self.pages}\", sep= '\\n')\n",
    "book = Book()\n",
    "book.info()"
   ]
  }
 ],
 "metadata": {
  "kernelspec": {
   "display_name": "Python 3",
   "language": "python",
   "name": "python3"
  },
  "language_info": {
   "codemirror_mode": {
    "name": "ipython",
    "version": 3
   },
   "file_extension": ".py",
   "mimetype": "text/x-python",
   "name": "python",
   "nbconvert_exporter": "python",
   "pygments_lexer": "ipython3",
   "version": "3.12.3"
  }
 },
 "nbformat": 4,
 "nbformat_minor": 2
}
