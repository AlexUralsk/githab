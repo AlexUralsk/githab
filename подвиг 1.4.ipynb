{
 "cells": [
  {
   "cell_type": "markdown",
   "metadata": {},
   "source": [
    "подвиг 1.4\n",
    "Объявите класс с именем MediaPlayer c 2 методами:\n",
    "-open(file) - для открытия медиа-файлов с именем file(создает локальное свойство filname со значением аргумента file в объекте класса MediaPlayer)\n",
    "-play() - для воспроизведения медиа-файлов(вывод на экран строку: \"Воспроизведение<название медиа-файла>\").\n",
    "Создайте 2 экземпляра этого класса с именем: media1 и media2.\n",
    "Вызовите из них метод open() c аргументом \"filemedia1\" для объекта  media1 и  \"filemedia2\" для объекта media2. После этого вызовите ерез объекы метод play(). При этом на экран должно выводиться две строки (без ковычек)\n",
    "\"Воспроизведение<название filemedia1\"\n",
    "\"Воспроизведение<название filemedia2\"\n"
   ]
  },
  {
   "cell_type": "code",
   "execution_count": 1,
   "metadata": {},
   "outputs": [
    {
     "name": "stdout",
     "output_type": "stream",
     "text": [
      " Воспроизведение filemadia1\n",
      " Воспроизведение filemedia2\n"
     ]
    }
   ],
   "source": [
    "class MediaPlayer:\n",
    "    def open(self, file):\n",
    "        self.filename = file\n",
    "    def play(self):\n",
    "        print(f' Воспроизведение {self.filename}')   \n",
    "media1 = MediaPlayer()\n",
    "media2 =  MediaPlayer()\n",
    "media1.open('filemadia1')\n",
    "media2.open('filemedia2')\n",
    "media1.play()\n",
    "media2.play()"
   ]
  }
 ],
 "metadata": {
  "kernelspec": {
   "display_name": "sait",
   "language": "python",
   "name": "python3"
  },
  "language_info": {
   "codemirror_mode": {
    "name": "ipython",
    "version": 3
   },
   "file_extension": ".py",
   "mimetype": "text/x-python",
   "name": "python",
   "nbconvert_exporter": "python",
   "pygments_lexer": "ipython3",
   "version": "3.12.2"
  }
 },
 "nbformat": 4,
 "nbformat_minor": 2
}
