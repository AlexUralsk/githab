{
 "cells": [
  {
   "cell_type": "markdown",
   "metadata": {},
   "source": [
    "Умножение матриц 🌶️\n",
    "Напишите программу, которая перемножает две матрицы.\n",
    "\n",
    "Формат входных данных\n",
    "На вход программе подаются два натуральных числа \n",
    "n и m — количество строк и столбцов в первой матрице, затем элементы первой матрицы, затем пустая строка. Далее следуют числа m и k — количество строк и столбцов второй матрицы затем элементы второй матрицы.\n",
    "\n",
    "Формат выходных данных\n",
    "Программа должна вывести результирующую матрицу, разделяя элементы символом пробела.\n",
    "2 2\n",
    "1 2\n",
    "3 2\n",
    "\n",
    "2 2\n",
    "3 2\n",
    "1 1\n"
   ]
  },
  {
   "cell_type": "code",
   "execution_count": 3,
   "metadata": {},
   "outputs": [
    {
     "name": "stdout",
     "output_type": "stream",
     "text": [
      "5 4\n",
      "11 8\n"
     ]
    }
   ],
   "source": [
    "n, m = [int(x) for x in input().split(' ')]\n",
    "matrix = [[int(x) for x in input().split(' ')] for _ in range(n)]\n",
    "input()\n",
    "k, l = [int(x) for x in input().split(' ')]\n",
    "matrix1 = [[int(x) for x in input().split(' ')] for _ in range(k)]\n",
    "matrix2 = [[0] * l for _ in range(n)]\n",
    "for i in range(n):\n",
    "    for j in range(l):\n",
    "        for q in range(m):\n",
    "            matrix2[i][j] += matrix[i][q] * matrix1[q][j]\n",
    "for i in matrix2:\n",
    "    print(*i)\n",
    "            "
   ]
  }
 ],
 "metadata": {
  "kernelspec": {
   "display_name": "Python 3",
   "language": "python",
   "name": "python3"
  },
  "language_info": {
   "codemirror_mode": {
    "name": "ipython",
    "version": 3
   },
   "file_extension": ".py",
   "mimetype": "text/x-python",
   "name": "python",
   "nbconvert_exporter": "python",
   "pygments_lexer": "ipython3",
   "version": "3.12.2"
  }
 },
 "nbformat": 4,
 "nbformat_minor": 2
}
