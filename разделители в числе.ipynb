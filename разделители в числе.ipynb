{
 "cells": [
  {
   "cell_type": "code",
   "execution_count": null,
   "metadata": {},
   "outputs": [],
   "source": [
    "# put your python code here 3724650756252\n",
    "n = int(input())\n",
    "m = []\n",
    "for i in range(n ):\n",
    "    m.append(int(input()))\n",
    "    #print(m)    \n",
    "multee = int(input())\n",
    "print(multee)\n",
    "for i in range(len(m) - 1):\n",
    "    for j in range(i, len(m) - 1):\n",
    "        x = m[i]\n",
    "        if x * j == multee:\n",
    "            print(x*j)\n",
    "            print('ДА')\n",
    "            break\n",
    "else:\n",
    "     print('НЕТ')"
   ]
  }
 ],
 "metadata": {
  "kernelspec": {
   "display_name": "Python 3",
   "language": "python",
   "name": "python3"
  },
  "language_info": {
   "name": "python",
   "version": "3.12.0"
  }
 },
 "nbformat": 4,
 "nbformat_minor": 2
}
