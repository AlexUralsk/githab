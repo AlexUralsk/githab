{
 "cells": [
  {
   "cell_type": "code",
   "execution_count": null,
   "metadata": {},
   "outputs": [],
   "source": [
    "#  7-301-447-5820\n",
    "#  301-447-5820\n",
    "#  3X1-447-5820\n",
    "#  301-4477-5820\n",
    "n = [i for i in input().split('-')]\n",
    "s = [len(q) for q in n]\n",
    "if ''.join(n).isdigit() and s == [3,3,4]:\n",
    "    print('YES')\n",
    "elif ''.join(n).isdigit() and s == [1,3,3,4] and n[0] == '7':\n",
    "    print('YES')\n",
    "else:\n",
    "    print('NO')"
   ]
  }
 ],
 "metadata": {
  "kernelspec": {
   "display_name": "Python 3",
   "language": "python",
   "name": "python3"
  },
  "language_info": {
   "name": "python",
   "version": "3.12.0"
  }
 },
 "nbformat": 4,
 "nbformat_minor": 2
}
