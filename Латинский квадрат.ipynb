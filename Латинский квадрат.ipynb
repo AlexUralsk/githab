{
 "cells": [
  {
   "cell_type": "markdown",
   "metadata": {},
   "source": [
    "Латинский квадрат 🌶️\n",
    "Латинским квадратом порядка \n",
    "n называется квадратная матрица размером \n",
    "n×n, каждая строка и каждый столбец которой содержат все числа от \n",
    "1 до n.\n",
    " Напишите программу, которая проверяет, является ли заданная квадратная матрица латинским квадратом.\n",
    "\n",
    "Формат входных данных\n",
    "На вход программе подаётся натуральное число \n",
    "n — количество строк и столбцов в матрице, затем элементы матрицы: \n",
    "n строк, по n чисел в каждой, разделённые пробелами.\n",
    "Формат выходных данных\n",
    "Программа должна вывести слово YES, если матрица является латинским квадратом, и слово NO, если не является.\n",
    "Sample Input 1:\n",
    "\n",
    "4\n",
    "2 3 4 1\n",
    "3 4 1 2\n",
    "4 1 2 3\n",
    "1 2 3 4\n",
    "Sample Output 1:\n",
    "\n",
    "YES\n",
    "Sample Input 2:\n",
    "\n",
    "3\n",
    "1 2 3\n",
    "3 2 1\n",
    "2 3 4\n",
    "Sample Output 2:\n",
    "\n",
    "NO"
   ]
  },
  {
   "cell_type": "code",
   "execution_count": null,
   "metadata": {},
   "outputs": [],
   "source": [
    "n = int(input())\n",
    "matrix = [[int(i) for i in input().split()] for _ in range(n)]\n",
    "m =[int(i) for i in range(1, n +1)]\n",
    "flag = True\n",
    "for i in range(n):\n",
    "    for i in matrix:\n",
    "        j = sorted(i)\n",
    "        if m != j:\n",
    "            flag = False\n",
    "            break\n",
    "trans_matr = []\n",
    "for i in range(n):\n",
    "    x = ([matrix[j][i] for j in range(n)])\n",
    "    trans_matr.append(x)\n",
    "for i in trans_matr:\n",
    "        j = sorted(i)\n",
    "        if m != j:\n",
    "            flag = False\n",
    "            break\n",
    "if flag:\n",
    "    print('YES')\n",
    "else:\n",
    "    print('NO')"
   ]
  }
 ],
 "metadata": {
  "kernelspec": {
   "display_name": "Python 3",
   "language": "python",
   "name": "python3"
  },
  "language_info": {
   "name": "python",
   "version": "3.12.2"
  }
 },
 "nbformat": 4,
 "nbformat_minor": 2
}
