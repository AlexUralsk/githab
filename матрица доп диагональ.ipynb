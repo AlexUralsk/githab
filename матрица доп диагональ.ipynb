{
 "cells": [
  {
   "cell_type": "markdown",
   "metadata": {},
   "source": [
    "Создать матрицу из нечетного числа, где первая и последняя строка = 1, главная и дополнительная диагональ = 1, остальное  = 0\n"
   ]
  },
  {
   "cell_type": "code",
   "execution_count": 7,
   "metadata": {},
   "outputs": [
    {
     "name": "stdout",
     "output_type": "stream",
     "text": [
      "AAA\n",
      "AA\n",
      "NO\n"
     ]
    }
   ],
   "source": [
    "s1 = input()\n",
    "s2 = input()\n",
    "print(s1)\n",
    "print(s2)\n",
    "flag = True\n",
    "#def sorts(s1 , s2):  \n",
    "if len(s1) == len(s2):\n",
    "    for i in range(len(s1)):\n",
    "        if s1[i] in s2:\n",
    "            del s2[s1[i]]        \n",
    "        if s1[i] in s2:\n",
    "            if i not in s2:\n",
    "                flag = False\n",
    "    print(flag)     \n",
    "else:\n",
    "     flag = False\n",
    "    \n",
    "if flag:\n",
    "    print('YES')\n",
    "else:\n",
    "    print('NO')"
   ]
  },
  {
   "cell_type": "code",
   "execution_count": 5,
   "metadata": {},
   "outputs": [
    {
     "name": "stdout",
     "output_type": "stream",
     "text": [
      "1 1 1 1 1\n",
      "0 1 0 1 0\n",
      "0 0 1 0 0\n",
      "0 1 0 1 0\n",
      "1 1 1 1 1\n"
     ]
    }
   ],
   "source": [
    "n = input()\n",
    "if int(n) % 2 != 0:\n",
    "    matrix = [[0] * int(n) for _ in range(int(n))]\n",
    "for i in range(1,int(n) - 1):\n",
    "        matrix[i][i] = 1        \n",
    "for i in range(int(n)):\n",
    "        matrix[0][i] = 1\n",
    "        matrix[-1][i] = 1\n",
    "for i in range(int(int(n))):\n",
    "    for q in range(int(n)):        \n",
    "        if i == int(n) - 1 - q:\n",
    "            matrix[i][q] = 1 \n",
    "for i in matrix:\n",
    "        print(*i)"
   ]
  }
 ],
 "metadata": {
  "kernelspec": {
   "display_name": ".venv",
   "language": "python",
   "name": "python3"
  },
  "language_info": {
   "codemirror_mode": {
    "name": "ipython",
    "version": 3
   },
   "file_extension": ".py",
   "mimetype": "text/x-python",
   "name": "python",
   "nbconvert_exporter": "python",
   "pygments_lexer": "ipython3",
   "version": "3.12.3"
  }
 },
 "nbformat": 4,
 "nbformat_minor": 2
}
