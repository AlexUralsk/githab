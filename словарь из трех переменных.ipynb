{
 "cells": [
  {
   "cell_type": "markdown",
   "metadata": {},
   "source": [
    "Даны три списка student_ids, student_names, student_grades, содержащие информацию о студентах.\n",
    "\n",
    "Дополните приведенный код, используя генератор, так чтобы получить список result, содержащий вложенные словари в соответствии с образцом: [{'S001': {'Camila Rodriguez': 86}}, {'S002': {'Juan Cruz': 98}},...].\n",
    "\n",
    "Примечание 1. Для параллельной итерации по всем трем спискам одновременно можно использовать встроенную функцию zip()"
   ]
  },
  {
   "cell_type": "code",
   "execution_count": 2,
   "metadata": {},
   "outputs": [
    {
     "name": "stdout",
     "output_type": "stream",
     "text": [
      "[{'S001': {'Camila Rodriguez': 86}}, {'S002': {'Juan Cruz': 98}}, {'S003': {'Dan Richards': 89}}, {'S004': {'Sam Boyle': 92}}, {'S005': {'Batista Cesare': 45}}, {'S006': {'Francesco Totti': 67}}, {'S007': {'Khalid Hussain': 89}}, {'S008': {'Ethan Hawke': 90}}, {'S009': {'David Bowman': 100}}, {'S010': {'James Milner': 98}}, {'S011': {'Michael Owen': 10}}, {'S012': {'Gary Oldman': 96}}, {'S013': {'Tom Hardy': 93}}]\n"
     ]
    }
   ],
   "source": [
    "student_ids = ['S001', 'S002', 'S003', 'S004', 'S005', 'S006', 'S007', 'S008', 'S009', 'S010', 'S011', 'S012', 'S013'] \n",
    "student_names = ['Camila Rodriguez', 'Juan Cruz', 'Dan Richards', 'Sam Boyle', 'Batista Cesare', 'Francesco Totti', 'Khalid Hussain', 'Ethan Hawke', 'David Bowman', 'James Milner', 'Michael Owen', 'Gary Oldman', 'Tom Hardy'] \n",
    "student_grades = [86, 98, 89, 92, 45, 67, 89, 90, 100, 98, 10, 96, 93]\n",
    "\n",
    "result = [{i : {k : v}} for i, k, v in (zip(student_ids, student_names, student_grades ))]\n",
    "print(result)"
   ]
  }
 ],
 "metadata": {
  "kernelspec": {
   "display_name": "Python 3",
   "language": "python",
   "name": "python3"
  },
  "language_info": {
   "codemirror_mode": {
    "name": "ipython",
    "version": 3
   },
   "file_extension": ".py",
   "mimetype": "text/x-python",
   "name": "python",
   "nbconvert_exporter": "python",
   "pygments_lexer": "ipython3",
   "version": "3.12.3"
  }
 },
 "nbformat": 4,
 "nbformat_minor": 2
}
