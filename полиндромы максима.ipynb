{
 "cells": [
  {
   "cell_type": "markdown",
   "metadata": {},
   "source": []
  },
  {
   "cell_type": "code",
   "execution_count": null,
   "metadata": {},
   "outputs": [],
   "source": [
    "# задача Максима про полидром часов\n",
    "n = 24                         # часов в сутках\n",
    "m = 100                        # минут в часе\n",
    "i = 0                          # количество повторений для часов\n",
    "n_1 = 0                        # количество часов для увеличения int\n",
    "palidrom = 0                   # количество полидромов\n",
    "null_n = '0'                   # \"0\"  для подставления впереди n_1\n",
    "null_m = '0'                   # \"0\"  для подставления впереди m_1\n",
    "def max_figure():          # общее количество \"0\"  для подставления\n",
    "    c = max(len(str(n)), len(str(m))) \n",
    "    return c\n",
    "for i in range(n):\n",
    "    n_1 +=1                    # увеличение на 1 час\n",
    "    k = 0                      # количество повторений для минут\n",
    "    m_1 = 0                    # количество минут для увеличения int    \n",
    "    for k in range(m):\n",
    "        m_1 += 1               # увеличение на 1 минуту\n",
    "        a = len(str(n_1))      # количество цифр в числе часов\n",
    "        b = len(str(m_1))      # количество цифр в числе минут\n",
    "        k +=1     \n",
    "        n_2 = str(null_n * (max_figure() - len(str(n_1)))) + str(n_1) # количество  часов с подставленными нулями с переди для сравнения str\n",
    "        #print('n_2 =', n_2)\n",
    "        m_2 = str(null_m * (max_figure() - len(str(m_1)))) + str(m_1) # количество  часов с подставленными нулями с переди для сравнения str\n",
    "        m_3 = sorted(m_2, reverse=Truerue)\n",
    "        print(m_3)\n",
    "        if n_2 == m_3:\n",
    "            palidrom += 1\n",
    "            print(f'полидром1 = {n_2, m_2}')  \n",
    "            print('круг №', k) \n",
    "        else:\n",
    "             print('круг №2', k)                \n",
    "i += 1\n",
    "print(f'полидром = {palidrom}')   "
   ]
  }
 ],
 "metadata": {
  "kernelspec": {
   "display_name": "Python 3",
   "language": "python",
   "name": "python3"
  },
  "language_info": {
   "name": "python",
   "version": "3.12.0"
  }
 },
 "nbformat": 4,
 "nbformat_minor": 2
}
