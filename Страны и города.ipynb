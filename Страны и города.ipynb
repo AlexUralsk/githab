{
 "cells": [
  {
   "cell_type": "markdown",
   "metadata": {},
   "source": [
    "10.5 Страны и города\n",
    "На вход программе подается список стран и городов каждой страны. Затем даны названия городов. Напишите программу, которая для каждого города выводит, в какой стране он находится.\n",
    "\n",
    "Формат входных данных\n",
    "Программа получает на вход количество стран n. Далее идет \n",
    "n строк, каждая строка начинается с названия страны, затем идут названия городов этой страны. В следующей строке записано число \n",
    "m, далее идут \n",
    "m запросов — названия каких-то \n",
    "m городов, из перечисленных выше.\n",
    "\n",
    "Формат выходных данных\n",
    "Программа должна вывести название страны, в которой находится данный город в соответствии с примером.\n",
    "2\n",
    "Германия Берлин Мюнхен Гамбург Дортмунд\n",
    "Нидерланды Амстердам Гаага Роттердам Алкмар\n",
    "4\n",
    "Амстердам\n",
    "Алкмар\n",
    "Гамбург\n",
    "Гаага\n",
    "\n",
    "\n",
    "\n",
    "\n"
   ]
  },
  {
   "cell_type": "code",
   "execution_count": 14,
   "metadata": {},
   "outputs": [
    {
     "name": "stdout",
     "output_type": "stream",
     "text": [
      "dicts1= {'Берлин': 'Германия', 'Мюнхен': 'Германия', 'Гамбург': 'Германия', 'Дортмунд': 'Германия', 'Амстердам': 'Нидерланды', 'Гаага': 'Нидерланды', 'Роттердам': 'Нидерланды', 'Алкмар': 'Нидерланды'}\n",
      "4\n",
      "Нидерланды\n",
      "Нидерланды\n",
      "Германия\n",
      "Нидерланды\n"
     ]
    }
   ],
   "source": [
    "n = int(input())\n",
    "dicts1 = {}\n",
    "def funck(x):\n",
    "    state = x[0]\n",
    "    town = x[1:]\n",
    "    dicts = dict.fromkeys(town, state)\n",
    "    return dicts\n",
    "for i in range(n):\n",
    "    dicts2 = {}\n",
    "    state = input().split(' ')  \n",
    "    dicts2 = funck(state)  \n",
    "    dicts1.update(dicts2)\n",
    "#print('dicts1=', dicts1)\n",
    "m = int(input())\n",
    "#print(m)\n",
    "for j in range(m):\n",
    "    key = input()    \n",
    "    print(dicts1[key])"
   ]
  }
 ],
 "metadata": {
  "kernelspec": {
   "display_name": "Python 3",
   "language": "python",
   "name": "python3"
  },
  "language_info": {
   "codemirror_mode": {
    "name": "ipython",
    "version": 3
   },
   "file_extension": ".py",
   "mimetype": "text/x-python",
   "name": "python",
   "nbconvert_exporter": "python",
   "pygments_lexer": "ipython3",
   "version": "3.12.2"
  }
 },
 "nbformat": 4,
 "nbformat_minor": 2
}
