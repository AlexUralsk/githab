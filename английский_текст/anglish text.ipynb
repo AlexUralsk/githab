{
 "cells": [
  {
   "cell_type": "code",
   "execution_count": 10,
   "metadata": {},
   "outputs": [
    {
     "name": "stdout",
     "output_type": "stream",
     "text": [
      "!\"#$%&'()*+,-./:;<=>?@[\\]^_`{|}~\n"
     ]
    }
   ],
   "source": [
    "from string import punctuation\n",
    "print(punctuation)"
   ]
  },
  {
   "cell_type": "code",
   "execution_count": 38,
   "metadata": {},
   "outputs": [
    {
     "name": "stdout",
     "output_type": "stream",
     "text": [
      "['API', 'All', 'An', 'As', 'CSV', 'DB', 'Dialect', 'Dialects', 'Feel', 'For', 'Formatting', 'Grade', 'Happy', 'If', 'It', 'NULL', 'None', 'Parameters', 'Return', 'SQL', 'So', 'The', 'These', 'This', 'Through', 'To', 'We', 'Welcome', 'While', 'Within', 'a', 'about', 'achieve', 'also', 'an', 'and', 'any', 'application', 'are', 'area', 'arguments', 'as', 'aspect', 'aspects', 'assignments', 'basics', 'be', 'before', 'beginnerlevel', 'being', 'believe', 'build', 'but', 'by', 'call', 'can', 'carefully', 'challenges', 'class', 'coding', 'competition', 'complex', 'concepts', 'contains', 'converting', 'core', 'cornerstone', 'covering', 'csvfile', 'current', 'cursorfetch', 'data', 'dedicated', 'deepen', 'define', 'delimited', 'designed', 'details', 'dialect', 'dialects', 'different', 'dive', 'dump', 'easier', 'easy', 'education', 'empty', 'enhance', 'essential', 'example', 'excel', 'file', 'filelike', 'files', 'find', 'first', 'fmtparams', 'focus', 'focused', 'for', 'form', 'formatting', 'foundation', 'free', 'from', 'full', 'function', 'fundamental', 'gain', 'given', 'goals', 'grasp', 'handling', 'happy', 'help', 'here', 'homework', 'implement', 'improve', 'in', 'included', 'individual', 'instance', 'interface', 'into', 'is', 'isnвЂ™t', 'it', 'keyword', 'knowledge', 'language', 'learned', 'learning', 'lets', 'listdialects', 'make', 'makes', 'material', 'mathematical', 'may', 'method', 'methods', 'modules', 'more', 'newline', 'nonstring', 'not', 'number', 'numbers', 'numerical', 'object', 'of', 'often', 'on', 'one', 'only', 'opened', 'operations', 'optional', 'or', 'other', 'our', 'override', 'parameter', 'parameters', 'part', 'particular', 'possible', 'practical', 'preparation', 'preprocessing', 'principles', 'problem', 'problems', 'problemsolving\\n\\n', 'processing', 'proficiency', 'programming', 'provide', 'reinforce', 'resource', 'responsible', 'returned', 'reversible', 'section', 'see', 'selected', 'selfstudy', 'set', 'sharpen', 'short', 'should', 'skills', 'solid', 'solidify', 'solving', 'specific', 'str', 'strengthen', 'string', 'stringified', 'strings', 'strong', 'students', 'subclass', 'substantial', 'tackling', 'tailored', 'tasks', 'team', 'test', 'that', 'the', 'these', 'they', 'this', 'to', 'transformation', 'understanding', 'usage', 'use', 'used', 'userвЂ™s', 'value', 'values', 'variety', 'which', 'who', 'will', 'with', 'without', 'working', 'write', 'writer', 'written', 'written\\n\\nA', 'you', 'youll', 'your']\n",
      "['API', 'All', 'An', 'CSV', 'DB', 'Dialect', 'Dialects', 'For', 'Formatting', 'If', 'NULL', 'None', 'Parameters', 'Return', 'SQL', 'To', 'While', 'about', 'an', 'any', 'arguments', 'be', 'before', 'call', 'can', 'class', 'converting', 'csvfile', 'current', 'cursorfetch', 'data', 'define', 'delimited', 'details', 'dialect', 'dialects', 'dump', 'easier', 'easy', 'empty', 'example', 'file', 'filelike', 'files', 'fmtparams', 'formatting', 'from', 'full', 'function', 'given', 'implement', 'individual', 'instance', 'interface', 'into', 'isnвЂ™t', 'it', 'keyword', 'listdialects', 'make', 'makes', 'may', 'method', 'modules', 'newline', 'nonstring', 'object', 'one', 'opened', 'optional', 'other', 'override', 'parameter', 'parameters', 'particular', 'possible', 'preprocessing', 'responsible', 'returned', 'reversible', 'section', 'see', 'short', 'should', 'specific', 'str', 'string', 'stringified', 'strings', 'subclass', 'transformation', 'usage', 'used', 'userвЂ™s', 'value', 'values', 'which', 'without', 'write', 'writer', 'written', 'written\\n\\nA']\n"
     ]
    }
   ],
   "source": [
    "import datetime\n",
    "import csv\n",
    "def reader(text):\n",
    "    from string import punctuation\n",
    "    import csv\n",
    "    with open (text, 'r') as file:\n",
    "        data = file.read()\n",
    "    for i in punctuation:\n",
    "        if i in data:\n",
    "            data = data.replace(i, '')    \n",
    "    data = [i for i in data.split(' ')]\n",
    "    data1 = []\n",
    "    for i in data:\n",
    "        if i not in data1:\n",
    "            data1.append(i)\n",
    "    num = ['0', '1', '2', '3', '4', '5', '6', '7', '8', '9', '']\n",
    "    data1 = [i for i in data1 if i not in num]\n",
    "    return data1\n",
    "a = reader('Welcome to the beginner.txt')\n",
    "b = reader('novyi.txt')\n",
    "b = [i for i in b if i not in a]\n",
    "if len(b) != 0:\n",
    "    for i in b:\n",
    "     a.append(i)\n",
    "a = sorted(a)\n",
    "b = sorted(b)\n",
    "print(a)\n",
    "print(b)\n",
    "with open ('Slova.csv', 'w', encoding='utf-8') as csvfile:\n",
    "    writer = csv.writer(csvfile, delimiter= '\\n')\n",
    "    writer.writerows(b)\n",
    "with open ('Welcome to the beginner.txt', 'w', encoding='utf-8') as file:\n",
    "    #file.writer = writer(file, delimiter= ',')\n",
    "    for i in a:\n",
    "      file.write(f'\"{i}\"'+',')\n"
   ]
  }
 ],
 "metadata": {
  "kernelspec": {
   "display_name": "Python 3",
   "language": "python",
   "name": "python3"
  },
  "language_info": {
   "codemirror_mode": {
    "name": "ipython",
    "version": 3
   },
   "file_extension": ".py",
   "mimetype": "text/x-python",
   "name": "python",
   "nbconvert_exporter": "python",
   "pygments_lexer": "ipython3",
   "version": "3.12.2"
  }
 },
 "nbformat": 4,
 "nbformat_minor": 2
}
