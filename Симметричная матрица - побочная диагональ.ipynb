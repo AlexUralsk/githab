{
 "cells": [
  {
   "cell_type": "markdown",
   "metadata": {},
   "source": [
    "Симметричная матрица\n",
    "Напишите программу проверки симметричности квадратной матрицы относительно побочной диагонали.\n",
    "\n",
    "Формат входных данных\n",
    "На вход программе подаётся натуральное число \n",
    "n — количество строк и столбцов в матрице, затем элементы матрицы.\n",
    "\n",
    "Формат выходных данных\n",
    "Программа должна вывести YES, если матрица симметрична, и слово NO в противном случае.\n",
    "Sample Input 1:\n",
    "\n",
    "3\n",
    "0 3 10\n",
    "4 9 3\n",
    "7 4 0\n",
    "Sample Output 1:\n",
    "\n",
    "YES\n",
    "Sample Input 2:\n",
    "\n",
    "3\n",
    "0 1 2\n",
    "1 2 7\n",
    "2 3 4\n",
    "Sample Output 2:\n",
    "\n",
    "NO\n",
    "Sample Input 3:\n",
    "\n",
    "2\n",
    "1 2\n",
    "3 4\n",
    "Sample Output 3:\n",
    "\n",
    "NO\n"
   ]
  },
  {
   "cell_type": "code",
   "execution_count": 6,
   "metadata": {},
   "outputs": [
    {
     "name": "stdout",
     "output_type": "stream",
     "text": [
      "NO\n"
     ]
    }
   ],
   "source": [
    "n = int(input())\n",
    "flag = True\n",
    "matrix = [[int(i) for i in input().split()] for _ in range(n)]\n",
    "matrix.reverse()\n",
    "for i in range(n):\n",
    "    for j in range(n):\n",
    "        if matrix[i][j] != matrix[j][i]:\n",
    "            flag = False\n",
    "            break\n",
    "if flag:\n",
    "    print('YES')\n",
    "else:\n",
    "    print('NO')"
   ]
  }
 ],
 "metadata": {
  "kernelspec": {
   "display_name": "Python 3",
   "language": "python",
   "name": "python3"
  },
  "language_info": {
   "codemirror_mode": {
    "name": "ipython",
    "version": 3
   },
   "file_extension": ".py",
   "mimetype": "text/x-python",
   "name": "python",
   "nbconvert_exporter": "python",
   "pygments_lexer": "ipython3",
   "version": "3.12.2"
  }
 },
 "nbformat": 4,
 "nbformat_minor": 2
}
