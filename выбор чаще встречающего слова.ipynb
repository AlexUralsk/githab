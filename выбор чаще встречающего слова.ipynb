{
 "cells": [
  {
   "cell_type": "markdown",
   "metadata": {},
   "source": [
    "10.3 Анаграммы 2\n",
    "На вход программе подаются два предложения. Напишите программу, которая определяет, являются они анаграммами или нет. Ваша программа должна игнорировать регистр символов, знаки препинания и пробелы.\n",
    "\n",
    "Формат входных данных\n",
    "На вход программе подаются два предложения, каждое на отдельной строке.\n",
    "\n",
    "Формат выходных данных\n",
    "Программа должна вывести YES , если предложения – анаграммы и NO в противном случае.\n",
    "\n",
    "Примечание. Кроме слов в тексте могут присутствовать пробелы и знаки препинания .,!?:;-. Других символов в тексте нет.\n",
    "мер теста\tВходные данные\tВыходные данные\n",
    "1\tВижу зверей\n",
    "Живу резвей\tYES\n",
    "2\tКогда увидимся\n",
    "тогда и свидимся\tNO\n",
    "3\tС мая весной\n",
    "сам я не свой\tYES\n",
    "4\tслепо топчут\n",
    "после почтут\tYES\n",
    "5\tqwerty uiwq\n",
    "ryteiq onrw\tNO\n",
    "6\taaaaaaab ttyt\n",
    "aaabaaad yttt\tNO\n",
    "7\tqwerty! poiu?\n",
    "ertyqw ipou\tYES\n",
    "8\tWilliam Shakespeare\n",
    "I am a weakish: speller,\tYES"
   ]
  },
  {
   "cell_type": "code",
   "execution_count": null,
   "metadata": {},
   "outputs": [],
   "source": []
  },
  {
   "cell_type": "markdown",
   "metadata": {},
   "source": [
    "13. пусть задан список, где некоторые слова встречаются неоднократно. Нужно узнать, сколько именно раз встречается каждое . вывести слово, которое встречается чаще всего. Если это не одно слово, то вывести на печать синтактически больше! \n",
    "s = 'orange strawberry barley gooseberry apple apricot barley currant orange melon pomegranate banana banana orange barley apricot plum grapefruit banana quince strawberry barley grapefruit banana grapes melon strawberry apricot currant currant gooseberry raspberry apricot currant orange lime quince grapefruit barley banana melon pomegranate barley banana orange barley apricot plum banana quince lime grapefruit strawberry gooseberry apple barley apricot currant orange melon pomegranate banana banana orange apricot barley plum banana grapefruit banana quince currant orange melon pomegranate barley plum banana quince barley lime grapefruit pomegranate barley'"
   ]
  },
  {
   "cell_type": "code",
   "execution_count": 2,
   "metadata": {},
   "outputs": [
    {
     "name": "stdout",
     "output_type": "stream",
     "text": [
      "[('grapes', 1), ('raspberry', 1), ('apple', 2), ('gooseberry', 3), ('lime', 3), ('strawberry', 4), ('plum', 4), ('melon', 5), ('pomegranate', 5), ('quince', 5), ('currant', 6), ('grapefruit', 6), ('apricot', 7), ('orange', 8), ('barley', 12), ('banana', 12)]\n",
      "barley\n"
     ]
    }
   ],
   "source": [
    "s = 'orange strawberry barley gooseberry apple apricot barley currant orange melon pomegranate banana banana orange barley apricot plum grapefruit banana quince strawberry barley grapefruit banana grapes melon strawberry apricot currant currant gooseberry raspberry apricot currant orange lime quince grapefruit barley banana melon pomegranate barley banana orange barley apricot plum banana quince lime grapefruit strawberry gooseberry apple barley apricot currant orange melon pomegranate banana banana orange apricot barley plum banana grapefruit banana quince currant orange melon pomegranate barley plum banana quince barley lime grapefruit pomegranate barley'\n",
    "\n",
    "s = s.split(' ')\n",
    "schet = []\n",
    "result = {}\n",
    "max_i = [0]\n",
    "for i in s:\n",
    "    result[i] = result.get(i, 0) + 1\n",
    "result =  sorted(result.items(), key = lambda x: x[1])\n",
    "#print(result) \n",
    "schet.append(result[-1])\n",
    "for i in range(1, len(result) - 1):\n",
    "   if schet[0][1] == result[-1 * i -1][1]:\n",
    "       schet.append(result[-1*i-1])\n",
    "   else:\n",
    "       break\n",
    "schet = dict(schet)\n",
    "schet = min(schet.keys())\n",
    "print(schet)\n",
    "\n",
    "\n",
    "    \n",
    "    \n",
    "    \n"
   ]
  }
 ],
 "metadata": {
  "kernelspec": {
   "display_name": "Python 3",
   "language": "python",
   "name": "python3"
  },
  "language_info": {
   "codemirror_mode": {
    "name": "ipython",
    "version": 3
   },
   "file_extension": ".py",
   "mimetype": "text/x-python",
   "name": "python",
   "nbconvert_exporter": "python",
   "pygments_lexer": "ipython3",
   "version": "3.12.2"
  }
 },
 "nbformat": 4,
 "nbformat_minor": 2
}
