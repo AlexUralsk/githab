{
 "cells": [
  {
   "cell_type": "code",
   "execution_count": null,
   "metadata": {},
   "outputs": [],
   "source": [
    "s = [\"flower\",\"flow\",\"flight\"] \n",
    "max_total = 0                #  счетчик сравнения\n",
    "prefics = []                 #  конечный результат\n",
    "prefics_all = ''             #  промежуточный результат\n",
    "#ss = s                       #  список для работы (восстанавливатся после каждого круга)\n",
    "n = 0\n",
    "while n <= len(s) - 1:      #  3 раза крутит\n",
    "    ss = s                  \n",
    "    total = 0                #  промежуточный список\n",
    "                 #  рабочий цикл        \n",
    "    sss = ''.join(ss[n])   #  слово для проверки\n",
    "    print('sss=', sss)   #  слово для проверки    \n",
    "    ss.remove(sss)         #  удаление слова для проверки, что бы не сравнивал само с собой\n",
    "    print('ss=', ss)   \n",
    "    print('*' * 10)   \n",
    "    for j in ss: #  слова для проверки. 2 раза крутит\n",
    "        kk = j          # проверяемое слово\n",
    "        print('kk=', kk)     #            \n",
    "        for k in sss:        # буква для проверки    \n",
    "            if k in kk:      # цикл проверки              \n",
    "                total +=1                           #  счетчик совпадения букв\n",
    "                prefics_all+= k                     #  накопление совпавших букв\n",
    "                print('prefics_all=', prefics_all)  \n",
    "            else:\n",
    "                break                               #  прерывание цикла при отсутсвии совпадения букв\n",
    "        if total >= 2:                               #  при счетчике >= 2.                                      \n",
    "            prefics.append(prefics_all)             #  накопленные буквы сбрасываются в список\n",
    "            prefics_all = '' \n",
    "            print('x' * 10) \n",
    "    ss = s \n",
    "    print('ss2 = ', ss)\n",
    "    n += 1\n",
    "    print('n=', n)\n",
    "               \n",
    "    print('_' * 10)      \n",
    "    #prefics = min(prefics_all)   \n",
    "     \n",
    "print(prefics) "
   ]
  }
 ],
 "metadata": {
  "kernelspec": {
   "display_name": "Python 3",
   "language": "python",
   "name": "python3"
  },
  "language_info": {
   "name": "python",
   "version": "3.12.0"
  }
 },
 "nbformat": 4,
 "nbformat_minor": 2
}
