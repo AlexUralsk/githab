{
 "cells": [
  {
   "cell_type": "code",
   "execution_count": 6,
   "metadata": {},
   "outputs": [
    {
     "name": "stdout",
     "output_type": "stream",
     "text": [
      "1 1 "
     ]
    }
   ],
   "source": [
    "n = int(input())\n",
    "a, b, c = 1, 1, 1\n",
    "#s = [f1,f2,f3]\n",
    "for i in range(n):\n",
    "    print(a, end = ' ')\n",
    "    a, b, c, = b, c, a + b + c"
   ]
  }
 ],
 "metadata": {
  "kernelspec": {
   "display_name": "Python 3",
   "language": "python",
   "name": "python3"
  },
  "language_info": {
   "codemirror_mode": {
    "name": "ipython",
    "version": 3
   },
   "file_extension": ".py",
   "mimetype": "text/x-python",
   "name": "python",
   "nbconvert_exporter": "python",
   "pygments_lexer": "ipython3",
   "version": "3.12.2"
  }
 },
 "nbformat": 4,
 "nbformat_minor": 2
}
